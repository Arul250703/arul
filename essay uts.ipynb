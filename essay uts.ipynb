{
 "cells": [
  {
   "cell_type": "code",
   "execution_count": 3,
   "id": "a680485c",
   "metadata": {},
   "outputs": [
    {
     "name": "stdout",
     "output_type": "stream",
     "text": [
      "arul.maulana_ti22@nusaputra.ac.id\n"
     ]
    },
    {
     "data": {
      "text/plain": [
       "False"
      ]
     },
     "execution_count": 3,
     "metadata": {},
     "output_type": "execute_result"
    }
   ],
   "source": [
    "email=input('')\n",
    "valid=r'@gmail.com'\n",
    "valid in email"
   ]
  },
  {
   "cell_type": "code",
   "execution_count": 5,
   "id": "a4c43029",
   "metadata": {},
   "outputs": [
    {
     "name": "stdout",
     "output_type": "stream",
     "text": [
      "arulmaulana@gmail.com\n"
     ]
    },
    {
     "data": {
      "text/plain": [
       "True"
      ]
     },
     "execution_count": 5,
     "metadata": {},
     "output_type": "execute_result"
    }
   ],
   "source": [
    "email =input(\"\")\n",
    "valid = r'@gmail.com'\n",
    "valid in email\n",
    "        "
   ]
  },
  {
   "cell_type": "code",
   "execution_count": 11,
   "id": "0d220422",
   "metadata": {},
   "outputs": [
    {
     "name": "stdout",
     "output_type": "stream",
     "text": [
      "Masukan kalimat : BELAJAR Pemrograman Python Sangat Mudah sekali\n",
      "B374J4R P3mrogr4m4n Python 54ng4t Mud4h 53k47i\n"
     ]
    }
   ],
   "source": [
    "#2\n",
    "kalimat = input('Masukan kalimat : ')\n",
    "i = 0\n",
    "kata = ''\n",
    "for i in range (len(kalimat)):\n",
    "    if kalimat[i] == 'a' or kalimat[i] == 'A':\n",
    "        kata = kata + '4'\n",
    "    elif kalimat[i]== 'e' or kalimat[i]==  'E':\n",
    "        kata = kata + '3'\n",
    "    elif kalimat[i]=='l'or kalimat[i]=='L':\n",
    "        kata = kata + '7'\n",
    "    elif kalimat[i]=='s'or kalimat[i]=='S':\n",
    "        kata = kata + '5'\n",
    "    else:\n",
    "        kata = kata + kalimat[i]\n",
    "print(kata)"
   ]
  }
 ],
 "metadata": {
  "kernelspec": {
   "display_name": "Python 3 (ipykernel)",
   "language": "python",
   "name": "python3"
  },
  "language_info": {
   "codemirror_mode": {
    "name": "ipython",
    "version": 3
   },
   "file_extension": ".py",
   "mimetype": "text/x-python",
   "name": "python",
   "nbconvert_exporter": "python",
   "pygments_lexer": "ipython3",
   "version": "3.9.12"
  }
 },
 "nbformat": 4,
 "nbformat_minor": 5
}
